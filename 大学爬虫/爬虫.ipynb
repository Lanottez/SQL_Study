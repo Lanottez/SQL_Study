{
 "cells": [
  {
   "cell_type": "code",
   "execution_count": 2,
   "id": "293c4ca1",
   "metadata": {},
   "outputs": [],
   "source": [
    "import requests\n",
    "import pandas as pd\n",
    "\n",
    "url = 'http://news.sina.com.cn/zt_d/qswur2020/'\n",
    "r = requests.get(url)\n",
    "\n",
    "r\n",
    "\n",
    "r.encoding = r.apparent_encoding\n",
    "html = r.text\n",
    "\n",
    "a = pd.read_html(html)\n",
    "\n",
    "df = pd.concat(a)"
   ]
  },
  {
   "cell_type": "code",
   "execution_count": 1,
   "id": "6485263a",
   "metadata": {},
   "outputs": [],
   "source": [
    "import psycopg"
   ]
  },
  {
   "cell_type": "code",
   "execution_count": null,
   "id": "0a518145",
   "metadata": {},
   "outputs": [],
   "source": []
  }
 ],
 "metadata": {
  "kernelspec": {
   "display_name": "Python 3",
   "language": "python",
   "name": "python3"
  },
  "language_info": {
   "codemirror_mode": {
    "name": "ipython",
    "version": 3
   },
   "file_extension": ".py",
   "mimetype": "text/x-python",
   "name": "python",
   "nbconvert_exporter": "python",
   "pygments_lexer": "ipython3",
   "version": "3.8.8"
  }
 },
 "nbformat": 4,
 "nbformat_minor": 5
}
